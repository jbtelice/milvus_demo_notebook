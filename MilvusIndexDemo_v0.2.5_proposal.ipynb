{
  "cells": [
    {
      "cell_type": "markdown",
      "id": "1496f9de",
      "metadata": {
        "id": "1496f9de"
      },
      "source": [
        "<a href=\"https://colab.research.google.com/github/run-llama/llama_index/blob/main/docs/docs/examples/vector_stores/MilvusIndexDemo.ipynb\" target=\"_parent\"><img src=\"https://colab.research.google.com/assets/colab-badge.svg\" alt=\"Open In Colab\"/></a>"
      ]
    },
    {
      "cell_type": "markdown",
      "id": "0b692c73",
      "metadata": {
        "id": "0b692c73"
      },
      "source": [
        "# Milvus Vector Store\n",
        "\n",
        "This guide demonstrates how to build a Retrieval-Augmented Generation (RAG) system using LlamaIndex and Milvus.\n",
        "\n",
        "The RAG system combines a retrieval system with a generative model to generate new text based on a given prompt. The system first retrieves relevant documents from a corpus using a vector similarity search engine like Milvus, and then uses a generative model to generate new text based on the retrieved documents.\n",
        "\n",
        "[Milvus](https://milvus.io/) is the world's most advanced open-source vector database, built to power embedding similarity search and AI applications.\n",
        "\n",
        "In this notebook we are going to show a quick demo of using the MilvusVectorStore."
      ]
    },
    {
      "cell_type": "markdown",
      "id": "f81e2c81",
      "metadata": {
        "id": "f81e2c81"
      },
      "source": [
        "## Before you begin\n",
        "\n",
        "### Install dependencies"
      ]
    },
    {
      "cell_type": "markdown",
      "id": "0d0e46d8",
      "metadata": {
        "id": "0d0e46d8"
      },
      "source": [
        "If you're opening this Notebook on colab, you will probably need to install LlamaIndex 🦙."
      ]
    },
    {
      "cell_type": "code",
      "execution_count": 1,
      "id": "3e0c18ca",
      "metadata": {
        "id": "3e0c18ca"
      },
      "outputs": [
        {
          "name": "stdout",
          "output_type": "stream",
          "text": [
            "Collecting llama-index-vector-stores-milvus@ git+https://github.com/jbtelice/llama_index.git@develop#subdirectory=llama-index-integrations/vector_stores/llama-index-vector-stores-milvus\n",
            "  Cloning https://github.com/jbtelice/llama_index.git (to revision develop) to /tmp/pip-install-14jedx_q/llama-index-vector-stores-milvus_fafb9bde1a2549568ccf3ef72224b283\n",
            "  Running command git clone --filter=blob:none --quiet https://github.com/jbtelice/llama_index.git /tmp/pip-install-14jedx_q/llama-index-vector-stores-milvus_fafb9bde1a2549568ccf3ef72224b283\n",
            "  Running command git checkout -b develop --track origin/develop\n",
            "  Switched to a new branch 'develop'\n",
            "  branch 'develop' set up to track 'origin/develop'.\n",
            "  Resolved https://github.com/jbtelice/llama_index.git to commit d1abf7eb04ba8e82ead0b182b75a9c0a6267b33b\n",
            "  Installing build dependencies ... \u001b[?25ldone\n",
            "\u001b[?25h  Getting requirements to build wheel ... \u001b[?25ldone\n",
            "\u001b[?25h  Preparing metadata (pyproject.toml) ... \u001b[?25ldone\n",
            "\u001b[?25hRequirement already satisfied: llama-index-core<0.12.0,>=0.11.0 in ./.venv/lib/python3.11/site-packages (from llama-index-vector-stores-milvus@ git+https://github.com/jbtelice/llama_index.git@develop#subdirectory=llama-index-integrations/vector_stores/llama-index-vector-stores-milvus) (0.11.13.post1)\n",
            "Requirement already satisfied: pymilvus<3.0.0,>=2.3.6 in ./.venv/lib/python3.11/site-packages (from llama-index-vector-stores-milvus@ git+https://github.com/jbtelice/llama_index.git@develop#subdirectory=llama-index-integrations/vector_stores/llama-index-vector-stores-milvus) (2.4.7)\n",
            "Requirement already satisfied: PyYAML>=6.0.1 in ./.venv/lib/python3.11/site-packages (from llama-index-core<0.12.0,>=0.11.0->llama-index-vector-stores-milvus@ git+https://github.com/jbtelice/llama_index.git@develop#subdirectory=llama-index-integrations/vector_stores/llama-index-vector-stores-milvus) (6.0.2)\n",
            "Requirement already satisfied: SQLAlchemy>=1.4.49 in ./.venv/lib/python3.11/site-packages (from SQLAlchemy[asyncio]>=1.4.49->llama-index-core<0.12.0,>=0.11.0->llama-index-vector-stores-milvus@ git+https://github.com/jbtelice/llama_index.git@develop#subdirectory=llama-index-integrations/vector_stores/llama-index-vector-stores-milvus) (2.0.35)\n",
            "Requirement already satisfied: aiohttp<4.0.0,>=3.8.6 in ./.venv/lib/python3.11/site-packages (from llama-index-core<0.12.0,>=0.11.0->llama-index-vector-stores-milvus@ git+https://github.com/jbtelice/llama_index.git@develop#subdirectory=llama-index-integrations/vector_stores/llama-index-vector-stores-milvus) (3.10.6)\n",
            "Requirement already satisfied: dataclasses-json in ./.venv/lib/python3.11/site-packages (from llama-index-core<0.12.0,>=0.11.0->llama-index-vector-stores-milvus@ git+https://github.com/jbtelice/llama_index.git@develop#subdirectory=llama-index-integrations/vector_stores/llama-index-vector-stores-milvus) (0.6.7)\n",
            "Requirement already satisfied: deprecated>=1.2.9.3 in ./.venv/lib/python3.11/site-packages (from llama-index-core<0.12.0,>=0.11.0->llama-index-vector-stores-milvus@ git+https://github.com/jbtelice/llama_index.git@develop#subdirectory=llama-index-integrations/vector_stores/llama-index-vector-stores-milvus) (1.2.14)\n",
            "Requirement already satisfied: dirtyjson<2.0.0,>=1.0.8 in ./.venv/lib/python3.11/site-packages (from llama-index-core<0.12.0,>=0.11.0->llama-index-vector-stores-milvus@ git+https://github.com/jbtelice/llama_index.git@develop#subdirectory=llama-index-integrations/vector_stores/llama-index-vector-stores-milvus) (1.0.8)\n",
            "Requirement already satisfied: fsspec>=2023.5.0 in ./.venv/lib/python3.11/site-packages (from llama-index-core<0.12.0,>=0.11.0->llama-index-vector-stores-milvus@ git+https://github.com/jbtelice/llama_index.git@develop#subdirectory=llama-index-integrations/vector_stores/llama-index-vector-stores-milvus) (2024.9.0)\n",
            "Requirement already satisfied: httpx in ./.venv/lib/python3.11/site-packages (from llama-index-core<0.12.0,>=0.11.0->llama-index-vector-stores-milvus@ git+https://github.com/jbtelice/llama_index.git@develop#subdirectory=llama-index-integrations/vector_stores/llama-index-vector-stores-milvus) (0.27.2)\n",
            "Requirement already satisfied: nest-asyncio<2.0.0,>=1.5.8 in /nix/store/m6hf872ygc42i3vmv48gnkryp4yw2knn-python3.11-nest-asyncio-1.6.0/lib/python3.11/site-packages (from llama-index-core<0.12.0,>=0.11.0->llama-index-vector-stores-milvus@ git+https://github.com/jbtelice/llama_index.git@develop#subdirectory=llama-index-integrations/vector_stores/llama-index-vector-stores-milvus) (1.6.0)\n",
            "Requirement already satisfied: networkx>=3.0 in ./.venv/lib/python3.11/site-packages (from llama-index-core<0.12.0,>=0.11.0->llama-index-vector-stores-milvus@ git+https://github.com/jbtelice/llama_index.git@develop#subdirectory=llama-index-integrations/vector_stores/llama-index-vector-stores-milvus) (3.3)\n",
            "Requirement already satisfied: nltk>3.8.1 in ./.venv/lib/python3.11/site-packages (from llama-index-core<0.12.0,>=0.11.0->llama-index-vector-stores-milvus@ git+https://github.com/jbtelice/llama_index.git@develop#subdirectory=llama-index-integrations/vector_stores/llama-index-vector-stores-milvus) (3.9.1)\n",
            "Requirement already satisfied: numpy<2.0.0 in ./.venv/lib/python3.11/site-packages (from llama-index-core<0.12.0,>=0.11.0->llama-index-vector-stores-milvus@ git+https://github.com/jbtelice/llama_index.git@develop#subdirectory=llama-index-integrations/vector_stores/llama-index-vector-stores-milvus) (1.26.4)\n",
            "Requirement already satisfied: pillow>=9.0.0 in ./.venv/lib/python3.11/site-packages (from llama-index-core<0.12.0,>=0.11.0->llama-index-vector-stores-milvus@ git+https://github.com/jbtelice/llama_index.git@develop#subdirectory=llama-index-integrations/vector_stores/llama-index-vector-stores-milvus) (10.4.0)\n",
            "Requirement already satisfied: pydantic<3.0.0,>=2.7.0 in ./.venv/lib/python3.11/site-packages (from llama-index-core<0.12.0,>=0.11.0->llama-index-vector-stores-milvus@ git+https://github.com/jbtelice/llama_index.git@develop#subdirectory=llama-index-integrations/vector_stores/llama-index-vector-stores-milvus) (2.9.2)\n",
            "Requirement already satisfied: requests>=2.31.0 in ./.venv/lib/python3.11/site-packages (from llama-index-core<0.12.0,>=0.11.0->llama-index-vector-stores-milvus@ git+https://github.com/jbtelice/llama_index.git@develop#subdirectory=llama-index-integrations/vector_stores/llama-index-vector-stores-milvus) (2.32.3)\n",
            "Requirement already satisfied: tenacity!=8.4.0,<9.0.0,>=8.2.0 in ./.venv/lib/python3.11/site-packages (from llama-index-core<0.12.0,>=0.11.0->llama-index-vector-stores-milvus@ git+https://github.com/jbtelice/llama_index.git@develop#subdirectory=llama-index-integrations/vector_stores/llama-index-vector-stores-milvus) (8.5.0)\n",
            "Requirement already satisfied: tiktoken>=0.3.3 in ./.venv/lib/python3.11/site-packages (from llama-index-core<0.12.0,>=0.11.0->llama-index-vector-stores-milvus@ git+https://github.com/jbtelice/llama_index.git@develop#subdirectory=llama-index-integrations/vector_stores/llama-index-vector-stores-milvus) (0.7.0)\n",
            "Requirement already satisfied: tqdm<5.0.0,>=4.66.1 in ./.venv/lib/python3.11/site-packages (from llama-index-core<0.12.0,>=0.11.0->llama-index-vector-stores-milvus@ git+https://github.com/jbtelice/llama_index.git@develop#subdirectory=llama-index-integrations/vector_stores/llama-index-vector-stores-milvus) (4.66.5)\n",
            "Requirement already satisfied: typing-extensions>=4.5.0 in /nix/store/2y7fxkmdag6k4ba3g91ai1wyvv0rkn7f-python3.11-typing-extensions-4.11.0/lib/python3.11/site-packages (from llama-index-core<0.12.0,>=0.11.0->llama-index-vector-stores-milvus@ git+https://github.com/jbtelice/llama_index.git@develop#subdirectory=llama-index-integrations/vector_stores/llama-index-vector-stores-milvus) (4.11.0)\n",
            "Requirement already satisfied: typing-inspect>=0.8.0 in ./.venv/lib/python3.11/site-packages (from llama-index-core<0.12.0,>=0.11.0->llama-index-vector-stores-milvus@ git+https://github.com/jbtelice/llama_index.git@develop#subdirectory=llama-index-integrations/vector_stores/llama-index-vector-stores-milvus) (0.9.0)\n",
            "Requirement already satisfied: wrapt in ./.venv/lib/python3.11/site-packages (from llama-index-core<0.12.0,>=0.11.0->llama-index-vector-stores-milvus@ git+https://github.com/jbtelice/llama_index.git@develop#subdirectory=llama-index-integrations/vector_stores/llama-index-vector-stores-milvus) (1.16.0)\n",
            "Requirement already satisfied: setuptools>69 in ./.venv/lib/python3.11/site-packages (from pymilvus<3.0.0,>=2.3.6->llama-index-vector-stores-milvus@ git+https://github.com/jbtelice/llama_index.git@develop#subdirectory=llama-index-integrations/vector_stores/llama-index-vector-stores-milvus) (75.1.0)\n",
            "Requirement already satisfied: grpcio>=1.49.1 in ./.venv/lib/python3.11/site-packages (from pymilvus<3.0.0,>=2.3.6->llama-index-vector-stores-milvus@ git+https://github.com/jbtelice/llama_index.git@develop#subdirectory=llama-index-integrations/vector_stores/llama-index-vector-stores-milvus) (1.66.1)\n",
            "Requirement already satisfied: protobuf>=3.20.0 in ./.venv/lib/python3.11/site-packages (from pymilvus<3.0.0,>=2.3.6->llama-index-vector-stores-milvus@ git+https://github.com/jbtelice/llama_index.git@develop#subdirectory=llama-index-integrations/vector_stores/llama-index-vector-stores-milvus) (5.28.2)\n",
            "Requirement already satisfied: environs<=9.5.0 in ./.venv/lib/python3.11/site-packages (from pymilvus<3.0.0,>=2.3.6->llama-index-vector-stores-milvus@ git+https://github.com/jbtelice/llama_index.git@develop#subdirectory=llama-index-integrations/vector_stores/llama-index-vector-stores-milvus) (9.5.0)\n",
            "Requirement already satisfied: ujson>=2.0.0 in ./.venv/lib/python3.11/site-packages (from pymilvus<3.0.0,>=2.3.6->llama-index-vector-stores-milvus@ git+https://github.com/jbtelice/llama_index.git@develop#subdirectory=llama-index-integrations/vector_stores/llama-index-vector-stores-milvus) (5.10.0)\n",
            "Requirement already satisfied: pandas>=1.2.4 in ./.venv/lib/python3.11/site-packages (from pymilvus<3.0.0,>=2.3.6->llama-index-vector-stores-milvus@ git+https://github.com/jbtelice/llama_index.git@develop#subdirectory=llama-index-integrations/vector_stores/llama-index-vector-stores-milvus) (2.2.3)\n",
            "Requirement already satisfied: milvus-lite<2.5.0,>=2.4.0 in ./.venv/lib/python3.11/site-packages (from pymilvus<3.0.0,>=2.3.6->llama-index-vector-stores-milvus@ git+https://github.com/jbtelice/llama_index.git@develop#subdirectory=llama-index-integrations/vector_stores/llama-index-vector-stores-milvus) (2.4.10)\n",
            "Requirement already satisfied: aiohappyeyeballs>=2.3.0 in ./.venv/lib/python3.11/site-packages (from aiohttp<4.0.0,>=3.8.6->llama-index-core<0.12.0,>=0.11.0->llama-index-vector-stores-milvus@ git+https://github.com/jbtelice/llama_index.git@develop#subdirectory=llama-index-integrations/vector_stores/llama-index-vector-stores-milvus) (2.4.0)\n",
            "Requirement already satisfied: aiosignal>=1.1.2 in ./.venv/lib/python3.11/site-packages (from aiohttp<4.0.0,>=3.8.6->llama-index-core<0.12.0,>=0.11.0->llama-index-vector-stores-milvus@ git+https://github.com/jbtelice/llama_index.git@develop#subdirectory=llama-index-integrations/vector_stores/llama-index-vector-stores-milvus) (1.3.1)\n",
            "Requirement already satisfied: attrs>=17.3.0 in ./.venv/lib/python3.11/site-packages (from aiohttp<4.0.0,>=3.8.6->llama-index-core<0.12.0,>=0.11.0->llama-index-vector-stores-milvus@ git+https://github.com/jbtelice/llama_index.git@develop#subdirectory=llama-index-integrations/vector_stores/llama-index-vector-stores-milvus) (24.2.0)\n",
            "Requirement already satisfied: frozenlist>=1.1.1 in ./.venv/lib/python3.11/site-packages (from aiohttp<4.0.0,>=3.8.6->llama-index-core<0.12.0,>=0.11.0->llama-index-vector-stores-milvus@ git+https://github.com/jbtelice/llama_index.git@develop#subdirectory=llama-index-integrations/vector_stores/llama-index-vector-stores-milvus) (1.4.1)\n",
            "Requirement already satisfied: multidict<7.0,>=4.5 in ./.venv/lib/python3.11/site-packages (from aiohttp<4.0.0,>=3.8.6->llama-index-core<0.12.0,>=0.11.0->llama-index-vector-stores-milvus@ git+https://github.com/jbtelice/llama_index.git@develop#subdirectory=llama-index-integrations/vector_stores/llama-index-vector-stores-milvus) (6.1.0)\n",
            "Requirement already satisfied: yarl<2.0,>=1.12.0 in ./.venv/lib/python3.11/site-packages (from aiohttp<4.0.0,>=3.8.6->llama-index-core<0.12.0,>=0.11.0->llama-index-vector-stores-milvus@ git+https://github.com/jbtelice/llama_index.git@develop#subdirectory=llama-index-integrations/vector_stores/llama-index-vector-stores-milvus) (1.12.1)\n",
            "Requirement already satisfied: marshmallow>=3.0.0 in ./.venv/lib/python3.11/site-packages (from environs<=9.5.0->pymilvus<3.0.0,>=2.3.6->llama-index-vector-stores-milvus@ git+https://github.com/jbtelice/llama_index.git@develop#subdirectory=llama-index-integrations/vector_stores/llama-index-vector-stores-milvus) (3.22.0)\n",
            "Requirement already satisfied: python-dotenv in ./.venv/lib/python3.11/site-packages (from environs<=9.5.0->pymilvus<3.0.0,>=2.3.6->llama-index-vector-stores-milvus@ git+https://github.com/jbtelice/llama_index.git@develop#subdirectory=llama-index-integrations/vector_stores/llama-index-vector-stores-milvus) (1.0.1)\n",
            "Requirement already satisfied: click in ./.venv/lib/python3.11/site-packages (from nltk>3.8.1->llama-index-core<0.12.0,>=0.11.0->llama-index-vector-stores-milvus@ git+https://github.com/jbtelice/llama_index.git@develop#subdirectory=llama-index-integrations/vector_stores/llama-index-vector-stores-milvus) (8.1.7)\n",
            "Requirement already satisfied: joblib in ./.venv/lib/python3.11/site-packages (from nltk>3.8.1->llama-index-core<0.12.0,>=0.11.0->llama-index-vector-stores-milvus@ git+https://github.com/jbtelice/llama_index.git@develop#subdirectory=llama-index-integrations/vector_stores/llama-index-vector-stores-milvus) (1.4.2)\n",
            "Requirement already satisfied: regex>=2021.8.3 in ./.venv/lib/python3.11/site-packages (from nltk>3.8.1->llama-index-core<0.12.0,>=0.11.0->llama-index-vector-stores-milvus@ git+https://github.com/jbtelice/llama_index.git@develop#subdirectory=llama-index-integrations/vector_stores/llama-index-vector-stores-milvus) (2024.9.11)\n",
            "Requirement already satisfied: python-dateutil>=2.8.2 in /nix/store/pa5bhynxc128yyjcdrnjx6rzxrq8wdmg-python3.11-python-dateutil-2.9.0.post0/lib/python3.11/site-packages (from pandas>=1.2.4->pymilvus<3.0.0,>=2.3.6->llama-index-vector-stores-milvus@ git+https://github.com/jbtelice/llama_index.git@develop#subdirectory=llama-index-integrations/vector_stores/llama-index-vector-stores-milvus) (2.9.0.post0)\n",
            "Requirement already satisfied: pytz>=2020.1 in ./.venv/lib/python3.11/site-packages (from pandas>=1.2.4->pymilvus<3.0.0,>=2.3.6->llama-index-vector-stores-milvus@ git+https://github.com/jbtelice/llama_index.git@develop#subdirectory=llama-index-integrations/vector_stores/llama-index-vector-stores-milvus) (2024.2)\n",
            "Requirement already satisfied: tzdata>=2022.7 in ./.venv/lib/python3.11/site-packages (from pandas>=1.2.4->pymilvus<3.0.0,>=2.3.6->llama-index-vector-stores-milvus@ git+https://github.com/jbtelice/llama_index.git@develop#subdirectory=llama-index-integrations/vector_stores/llama-index-vector-stores-milvus) (2024.2)\n",
            "Requirement already satisfied: annotated-types>=0.6.0 in ./.venv/lib/python3.11/site-packages (from pydantic<3.0.0,>=2.7.0->llama-index-core<0.12.0,>=0.11.0->llama-index-vector-stores-milvus@ git+https://github.com/jbtelice/llama_index.git@develop#subdirectory=llama-index-integrations/vector_stores/llama-index-vector-stores-milvus) (0.7.0)\n",
            "Requirement already satisfied: pydantic-core==2.23.4 in ./.venv/lib/python3.11/site-packages (from pydantic<3.0.0,>=2.7.0->llama-index-core<0.12.0,>=0.11.0->llama-index-vector-stores-milvus@ git+https://github.com/jbtelice/llama_index.git@develop#subdirectory=llama-index-integrations/vector_stores/llama-index-vector-stores-milvus) (2.23.4)\n",
            "Requirement already satisfied: charset-normalizer<4,>=2 in ./.venv/lib/python3.11/site-packages (from requests>=2.31.0->llama-index-core<0.12.0,>=0.11.0->llama-index-vector-stores-milvus@ git+https://github.com/jbtelice/llama_index.git@develop#subdirectory=llama-index-integrations/vector_stores/llama-index-vector-stores-milvus) (3.3.2)\n",
            "Requirement already satisfied: idna<4,>=2.5 in ./.venv/lib/python3.11/site-packages (from requests>=2.31.0->llama-index-core<0.12.0,>=0.11.0->llama-index-vector-stores-milvus@ git+https://github.com/jbtelice/llama_index.git@develop#subdirectory=llama-index-integrations/vector_stores/llama-index-vector-stores-milvus) (3.10)\n",
            "Requirement already satisfied: urllib3<3,>=1.21.1 in ./.venv/lib/python3.11/site-packages (from requests>=2.31.0->llama-index-core<0.12.0,>=0.11.0->llama-index-vector-stores-milvus@ git+https://github.com/jbtelice/llama_index.git@develop#subdirectory=llama-index-integrations/vector_stores/llama-index-vector-stores-milvus) (2.2.3)\n",
            "Requirement already satisfied: certifi>=2017.4.17 in ./.venv/lib/python3.11/site-packages (from requests>=2.31.0->llama-index-core<0.12.0,>=0.11.0->llama-index-vector-stores-milvus@ git+https://github.com/jbtelice/llama_index.git@develop#subdirectory=llama-index-integrations/vector_stores/llama-index-vector-stores-milvus) (2024.8.30)\n",
            "Requirement already satisfied: greenlet!=0.4.17 in ./.venv/lib/python3.11/site-packages (from SQLAlchemy>=1.4.49->SQLAlchemy[asyncio]>=1.4.49->llama-index-core<0.12.0,>=0.11.0->llama-index-vector-stores-milvus@ git+https://github.com/jbtelice/llama_index.git@develop#subdirectory=llama-index-integrations/vector_stores/llama-index-vector-stores-milvus) (3.1.1)\n",
            "Requirement already satisfied: mypy-extensions>=0.3.0 in ./.venv/lib/python3.11/site-packages (from typing-inspect>=0.8.0->llama-index-core<0.12.0,>=0.11.0->llama-index-vector-stores-milvus@ git+https://github.com/jbtelice/llama_index.git@develop#subdirectory=llama-index-integrations/vector_stores/llama-index-vector-stores-milvus) (1.0.0)\n",
            "Requirement already satisfied: anyio in ./.venv/lib/python3.11/site-packages (from httpx->llama-index-core<0.12.0,>=0.11.0->llama-index-vector-stores-milvus@ git+https://github.com/jbtelice/llama_index.git@develop#subdirectory=llama-index-integrations/vector_stores/llama-index-vector-stores-milvus) (4.6.0)\n",
            "Requirement already satisfied: httpcore==1.* in ./.venv/lib/python3.11/site-packages (from httpx->llama-index-core<0.12.0,>=0.11.0->llama-index-vector-stores-milvus@ git+https://github.com/jbtelice/llama_index.git@develop#subdirectory=llama-index-integrations/vector_stores/llama-index-vector-stores-milvus) (1.0.5)\n",
            "Requirement already satisfied: sniffio in ./.venv/lib/python3.11/site-packages (from httpx->llama-index-core<0.12.0,>=0.11.0->llama-index-vector-stores-milvus@ git+https://github.com/jbtelice/llama_index.git@develop#subdirectory=llama-index-integrations/vector_stores/llama-index-vector-stores-milvus) (1.3.1)\n",
            "Requirement already satisfied: h11<0.15,>=0.13 in ./.venv/lib/python3.11/site-packages (from httpcore==1.*->httpx->llama-index-core<0.12.0,>=0.11.0->llama-index-vector-stores-milvus@ git+https://github.com/jbtelice/llama_index.git@develop#subdirectory=llama-index-integrations/vector_stores/llama-index-vector-stores-milvus) (0.14.0)\n",
            "Requirement already satisfied: packaging>=17.0 in /nix/store/p201g2nj3nkaxddym5095ilq33i288my-python3.11-packaging-24.0/lib/python3.11/site-packages (from marshmallow>=3.0.0->environs<=9.5.0->pymilvus<3.0.0,>=2.3.6->llama-index-vector-stores-milvus@ git+https://github.com/jbtelice/llama_index.git@develop#subdirectory=llama-index-integrations/vector_stores/llama-index-vector-stores-milvus) (24.0)\n",
            "Requirement already satisfied: six>=1.5 in /nix/store/h7q6n3bvh1iz607ckkh4p5wx75b4mzax-python3.11-six-1.16.0/lib/python3.11/site-packages (from python-dateutil>=2.8.2->pandas>=1.2.4->pymilvus<3.0.0,>=2.3.6->llama-index-vector-stores-milvus@ git+https://github.com/jbtelice/llama_index.git@develop#subdirectory=llama-index-integrations/vector_stores/llama-index-vector-stores-milvus) (1.16.0)\n",
            "\n",
            "\u001b[1m[\u001b[0m\u001b[34;49mnotice\u001b[0m\u001b[1;39;49m]\u001b[0m\u001b[39;49m A new release of pip is available: \u001b[0m\u001b[31;49m24.0\u001b[0m\u001b[39;49m -> \u001b[0m\u001b[32;49m24.2\u001b[0m\n",
            "\u001b[1m[\u001b[0m\u001b[34;49mnotice\u001b[0m\u001b[1;39;49m]\u001b[0m\u001b[39;49m To update, run: \u001b[0m\u001b[32;49mpip install --upgrade pip\u001b[0m\n",
            "Note: you may need to restart the kernel to use updated packages.\n"
          ]
        }
      ],
      "source": [
        "%pip install 'llama-index-vector-stores-milvus @ git+https://github.com/jbtelice/llama_index.git@develop#subdirectory=llama-index-integrations/vector_stores/llama-index-vector-stores-milvus'"
      ]
    },
    {
      "cell_type": "code",
      "execution_count": 2,
      "id": "6b80700a",
      "metadata": {
        "id": "6b80700a"
      },
      "outputs": [
        {
          "name": "stdout",
          "output_type": "stream",
          "text": [
            "llama-index-vector-stores-milvus        0.2.5\n",
            "milvus-lite                             2.4.10\n",
            "pymilvus                                2.4.7\n",
            "\n",
            "\u001b[1m[\u001b[0m\u001b[34;49mnotice\u001b[0m\u001b[1;39;49m]\u001b[0m\u001b[39;49m A new release of pip is available: \u001b[0m\u001b[31;49m24.0\u001b[0m\u001b[39;49m -> \u001b[0m\u001b[32;49m24.2\u001b[0m\n",
            "\u001b[1m[\u001b[0m\u001b[34;49mnotice\u001b[0m\u001b[1;39;49m]\u001b[0m\u001b[39;49m To update, run: \u001b[0m\u001b[32;49mpip install --upgrade pip\u001b[0m\n",
            "Note: you may need to restart the kernel to use updated packages.\n",
            "Requirement already satisfied: llama-index in ./.venv/lib/python3.11/site-packages (0.11.13)\n",
            "Requirement already satisfied: llama-index-agent-openai<0.4.0,>=0.3.4 in ./.venv/lib/python3.11/site-packages (from llama-index) (0.3.4)\n",
            "Requirement already satisfied: llama-index-cli<0.4.0,>=0.3.1 in ./.venv/lib/python3.11/site-packages (from llama-index) (0.3.1)\n",
            "Requirement already satisfied: llama-index-core<0.12.0,>=0.11.13 in ./.venv/lib/python3.11/site-packages (from llama-index) (0.11.13.post1)\n",
            "Requirement already satisfied: llama-index-embeddings-openai<0.3.0,>=0.2.4 in ./.venv/lib/python3.11/site-packages (from llama-index) (0.2.5)\n",
            "Requirement already satisfied: llama-index-indices-managed-llama-cloud>=0.3.0 in ./.venv/lib/python3.11/site-packages (from llama-index) (0.4.0)\n",
            "Requirement already satisfied: llama-index-legacy<0.10.0,>=0.9.48 in ./.venv/lib/python3.11/site-packages (from llama-index) (0.9.48.post3)\n",
            "Requirement already satisfied: llama-index-llms-openai<0.3.0,>=0.2.9 in ./.venv/lib/python3.11/site-packages (from llama-index) (0.2.9)\n",
            "Requirement already satisfied: llama-index-multi-modal-llms-openai<0.3.0,>=0.2.0 in ./.venv/lib/python3.11/site-packages (from llama-index) (0.2.1)\n",
            "Requirement already satisfied: llama-index-program-openai<0.3.0,>=0.2.0 in ./.venv/lib/python3.11/site-packages (from llama-index) (0.2.0)\n",
            "Requirement already satisfied: llama-index-question-gen-openai<0.3.0,>=0.2.0 in ./.venv/lib/python3.11/site-packages (from llama-index) (0.2.0)\n",
            "Requirement already satisfied: llama-index-readers-file<0.3.0,>=0.2.0 in ./.venv/lib/python3.11/site-packages (from llama-index) (0.2.2)\n",
            "Requirement already satisfied: llama-index-readers-llama-parse>=0.3.0 in ./.venv/lib/python3.11/site-packages (from llama-index) (0.3.0)\n",
            "Requirement already satisfied: nltk>3.8.1 in ./.venv/lib/python3.11/site-packages (from llama-index) (3.9.1)\n",
            "Requirement already satisfied: openai>=1.14.0 in ./.venv/lib/python3.11/site-packages (from llama-index-agent-openai<0.4.0,>=0.3.4->llama-index) (1.48.0)\n",
            "Requirement already satisfied: PyYAML>=6.0.1 in ./.venv/lib/python3.11/site-packages (from llama-index-core<0.12.0,>=0.11.13->llama-index) (6.0.2)\n",
            "Requirement already satisfied: SQLAlchemy>=1.4.49 in ./.venv/lib/python3.11/site-packages (from SQLAlchemy[asyncio]>=1.4.49->llama-index-core<0.12.0,>=0.11.13->llama-index) (2.0.35)\n",
            "Requirement already satisfied: aiohttp<4.0.0,>=3.8.6 in ./.venv/lib/python3.11/site-packages (from llama-index-core<0.12.0,>=0.11.13->llama-index) (3.10.6)\n",
            "Requirement already satisfied: dataclasses-json in ./.venv/lib/python3.11/site-packages (from llama-index-core<0.12.0,>=0.11.13->llama-index) (0.6.7)\n",
            "Requirement already satisfied: deprecated>=1.2.9.3 in ./.venv/lib/python3.11/site-packages (from llama-index-core<0.12.0,>=0.11.13->llama-index) (1.2.14)\n",
            "Requirement already satisfied: dirtyjson<2.0.0,>=1.0.8 in ./.venv/lib/python3.11/site-packages (from llama-index-core<0.12.0,>=0.11.13->llama-index) (1.0.8)\n",
            "Requirement already satisfied: fsspec>=2023.5.0 in ./.venv/lib/python3.11/site-packages (from llama-index-core<0.12.0,>=0.11.13->llama-index) (2024.9.0)\n",
            "Requirement already satisfied: httpx in ./.venv/lib/python3.11/site-packages (from llama-index-core<0.12.0,>=0.11.13->llama-index) (0.27.2)\n",
            "Requirement already satisfied: nest-asyncio<2.0.0,>=1.5.8 in /nix/store/m6hf872ygc42i3vmv48gnkryp4yw2knn-python3.11-nest-asyncio-1.6.0/lib/python3.11/site-packages (from llama-index-core<0.12.0,>=0.11.13->llama-index) (1.6.0)\n",
            "Requirement already satisfied: networkx>=3.0 in ./.venv/lib/python3.11/site-packages (from llama-index-core<0.12.0,>=0.11.13->llama-index) (3.3)\n",
            "Requirement already satisfied: numpy<2.0.0 in ./.venv/lib/python3.11/site-packages (from llama-index-core<0.12.0,>=0.11.13->llama-index) (1.26.4)\n",
            "Requirement already satisfied: pillow>=9.0.0 in ./.venv/lib/python3.11/site-packages (from llama-index-core<0.12.0,>=0.11.13->llama-index) (10.4.0)\n",
            "Requirement already satisfied: pydantic<3.0.0,>=2.7.0 in ./.venv/lib/python3.11/site-packages (from llama-index-core<0.12.0,>=0.11.13->llama-index) (2.9.2)\n",
            "Requirement already satisfied: requests>=2.31.0 in ./.venv/lib/python3.11/site-packages (from llama-index-core<0.12.0,>=0.11.13->llama-index) (2.32.3)\n",
            "Requirement already satisfied: tenacity!=8.4.0,<9.0.0,>=8.2.0 in ./.venv/lib/python3.11/site-packages (from llama-index-core<0.12.0,>=0.11.13->llama-index) (8.5.0)\n",
            "Requirement already satisfied: tiktoken>=0.3.3 in ./.venv/lib/python3.11/site-packages (from llama-index-core<0.12.0,>=0.11.13->llama-index) (0.7.0)\n",
            "Requirement already satisfied: tqdm<5.0.0,>=4.66.1 in ./.venv/lib/python3.11/site-packages (from llama-index-core<0.12.0,>=0.11.13->llama-index) (4.66.5)\n",
            "Requirement already satisfied: typing-extensions>=4.5.0 in /nix/store/2y7fxkmdag6k4ba3g91ai1wyvv0rkn7f-python3.11-typing-extensions-4.11.0/lib/python3.11/site-packages (from llama-index-core<0.12.0,>=0.11.13->llama-index) (4.11.0)\n",
            "Requirement already satisfied: typing-inspect>=0.8.0 in ./.venv/lib/python3.11/site-packages (from llama-index-core<0.12.0,>=0.11.13->llama-index) (0.9.0)\n",
            "Requirement already satisfied: wrapt in ./.venv/lib/python3.11/site-packages (from llama-index-core<0.12.0,>=0.11.13->llama-index) (1.16.0)\n",
            "Requirement already satisfied: llama-cloud>=0.0.11 in ./.venv/lib/python3.11/site-packages (from llama-index-indices-managed-llama-cloud>=0.3.0->llama-index) (0.1.0)\n",
            "Requirement already satisfied: pandas in ./.venv/lib/python3.11/site-packages (from llama-index-legacy<0.10.0,>=0.9.48->llama-index) (2.2.3)\n",
            "Requirement already satisfied: beautifulsoup4<5.0.0,>=4.12.3 in ./.venv/lib/python3.11/site-packages (from llama-index-readers-file<0.3.0,>=0.2.0->llama-index) (4.12.3)\n",
            "Requirement already satisfied: pypdf<5.0.0,>=4.0.1 in ./.venv/lib/python3.11/site-packages (from llama-index-readers-file<0.3.0,>=0.2.0->llama-index) (4.3.1)\n",
            "Requirement already satisfied: striprtf<0.0.27,>=0.0.26 in ./.venv/lib/python3.11/site-packages (from llama-index-readers-file<0.3.0,>=0.2.0->llama-index) (0.0.26)\n",
            "Requirement already satisfied: llama-parse>=0.5.0 in ./.venv/lib/python3.11/site-packages (from llama-index-readers-llama-parse>=0.3.0->llama-index) (0.5.6)\n",
            "Requirement already satisfied: click in ./.venv/lib/python3.11/site-packages (from nltk>3.8.1->llama-index) (8.1.7)\n",
            "Requirement already satisfied: joblib in ./.venv/lib/python3.11/site-packages (from nltk>3.8.1->llama-index) (1.4.2)\n",
            "Requirement already satisfied: regex>=2021.8.3 in ./.venv/lib/python3.11/site-packages (from nltk>3.8.1->llama-index) (2024.9.11)\n",
            "Requirement already satisfied: aiohappyeyeballs>=2.3.0 in ./.venv/lib/python3.11/site-packages (from aiohttp<4.0.0,>=3.8.6->llama-index-core<0.12.0,>=0.11.13->llama-index) (2.4.0)\n",
            "Requirement already satisfied: aiosignal>=1.1.2 in ./.venv/lib/python3.11/site-packages (from aiohttp<4.0.0,>=3.8.6->llama-index-core<0.12.0,>=0.11.13->llama-index) (1.3.1)\n",
            "Requirement already satisfied: attrs>=17.3.0 in ./.venv/lib/python3.11/site-packages (from aiohttp<4.0.0,>=3.8.6->llama-index-core<0.12.0,>=0.11.13->llama-index) (24.2.0)\n",
            "Requirement already satisfied: frozenlist>=1.1.1 in ./.venv/lib/python3.11/site-packages (from aiohttp<4.0.0,>=3.8.6->llama-index-core<0.12.0,>=0.11.13->llama-index) (1.4.1)\n",
            "Requirement already satisfied: multidict<7.0,>=4.5 in ./.venv/lib/python3.11/site-packages (from aiohttp<4.0.0,>=3.8.6->llama-index-core<0.12.0,>=0.11.13->llama-index) (6.1.0)\n",
            "Requirement already satisfied: yarl<2.0,>=1.12.0 in ./.venv/lib/python3.11/site-packages (from aiohttp<4.0.0,>=3.8.6->llama-index-core<0.12.0,>=0.11.13->llama-index) (1.12.1)\n",
            "Requirement already satisfied: soupsieve>1.2 in ./.venv/lib/python3.11/site-packages (from beautifulsoup4<5.0.0,>=4.12.3->llama-index-readers-file<0.3.0,>=0.2.0->llama-index) (2.6)\n",
            "Requirement already satisfied: anyio in ./.venv/lib/python3.11/site-packages (from httpx->llama-index-core<0.12.0,>=0.11.13->llama-index) (4.6.0)\n",
            "Requirement already satisfied: certifi in ./.venv/lib/python3.11/site-packages (from httpx->llama-index-core<0.12.0,>=0.11.13->llama-index) (2024.8.30)\n",
            "Requirement already satisfied: httpcore==1.* in ./.venv/lib/python3.11/site-packages (from httpx->llama-index-core<0.12.0,>=0.11.13->llama-index) (1.0.5)\n",
            "Requirement already satisfied: idna in ./.venv/lib/python3.11/site-packages (from httpx->llama-index-core<0.12.0,>=0.11.13->llama-index) (3.10)\n",
            "Requirement already satisfied: sniffio in ./.venv/lib/python3.11/site-packages (from httpx->llama-index-core<0.12.0,>=0.11.13->llama-index) (1.3.1)\n",
            "Requirement already satisfied: h11<0.15,>=0.13 in ./.venv/lib/python3.11/site-packages (from httpcore==1.*->httpx->llama-index-core<0.12.0,>=0.11.13->llama-index) (0.14.0)\n",
            "Requirement already satisfied: distro<2,>=1.7.0 in ./.venv/lib/python3.11/site-packages (from openai>=1.14.0->llama-index-agent-openai<0.4.0,>=0.3.4->llama-index) (1.9.0)\n",
            "Requirement already satisfied: jiter<1,>=0.4.0 in ./.venv/lib/python3.11/site-packages (from openai>=1.14.0->llama-index-agent-openai<0.4.0,>=0.3.4->llama-index) (0.5.0)\n",
            "Requirement already satisfied: annotated-types>=0.6.0 in ./.venv/lib/python3.11/site-packages (from pydantic<3.0.0,>=2.7.0->llama-index-core<0.12.0,>=0.11.13->llama-index) (0.7.0)\n",
            "Requirement already satisfied: pydantic-core==2.23.4 in ./.venv/lib/python3.11/site-packages (from pydantic<3.0.0,>=2.7.0->llama-index-core<0.12.0,>=0.11.13->llama-index) (2.23.4)\n",
            "Requirement already satisfied: charset-normalizer<4,>=2 in ./.venv/lib/python3.11/site-packages (from requests>=2.31.0->llama-index-core<0.12.0,>=0.11.13->llama-index) (3.3.2)\n",
            "Requirement already satisfied: urllib3<3,>=1.21.1 in ./.venv/lib/python3.11/site-packages (from requests>=2.31.0->llama-index-core<0.12.0,>=0.11.13->llama-index) (2.2.3)\n",
            "Requirement already satisfied: greenlet!=0.4.17 in ./.venv/lib/python3.11/site-packages (from SQLAlchemy>=1.4.49->SQLAlchemy[asyncio]>=1.4.49->llama-index-core<0.12.0,>=0.11.13->llama-index) (3.1.1)\n",
            "Requirement already satisfied: mypy-extensions>=0.3.0 in ./.venv/lib/python3.11/site-packages (from typing-inspect>=0.8.0->llama-index-core<0.12.0,>=0.11.13->llama-index) (1.0.0)\n",
            "Requirement already satisfied: marshmallow<4.0.0,>=3.18.0 in ./.venv/lib/python3.11/site-packages (from dataclasses-json->llama-index-core<0.12.0,>=0.11.13->llama-index) (3.22.0)\n",
            "Requirement already satisfied: python-dateutil>=2.8.2 in /nix/store/pa5bhynxc128yyjcdrnjx6rzxrq8wdmg-python3.11-python-dateutil-2.9.0.post0/lib/python3.11/site-packages (from pandas->llama-index-legacy<0.10.0,>=0.9.48->llama-index) (2.9.0.post0)\n",
            "Requirement already satisfied: pytz>=2020.1 in ./.venv/lib/python3.11/site-packages (from pandas->llama-index-legacy<0.10.0,>=0.9.48->llama-index) (2024.2)\n",
            "Requirement already satisfied: tzdata>=2022.7 in ./.venv/lib/python3.11/site-packages (from pandas->llama-index-legacy<0.10.0,>=0.9.48->llama-index) (2024.2)\n",
            "Requirement already satisfied: packaging>=17.0 in /nix/store/p201g2nj3nkaxddym5095ilq33i288my-python3.11-packaging-24.0/lib/python3.11/site-packages (from marshmallow<4.0.0,>=3.18.0->dataclasses-json->llama-index-core<0.12.0,>=0.11.13->llama-index) (24.0)\n",
            "Requirement already satisfied: six>=1.5 in /nix/store/h7q6n3bvh1iz607ckkh4p5wx75b4mzax-python3.11-six-1.16.0/lib/python3.11/site-packages (from python-dateutil>=2.8.2->pandas->llama-index-legacy<0.10.0,>=0.9.48->llama-index) (1.16.0)\n",
            "\n",
            "\u001b[1m[\u001b[0m\u001b[34;49mnotice\u001b[0m\u001b[1;39;49m]\u001b[0m\u001b[39;49m A new release of pip is available: \u001b[0m\u001b[31;49m24.0\u001b[0m\u001b[39;49m -> \u001b[0m\u001b[32;49m24.2\u001b[0m\n",
            "\u001b[1m[\u001b[0m\u001b[34;49mnotice\u001b[0m\u001b[1;39;49m]\u001b[0m\u001b[39;49m To update, run: \u001b[0m\u001b[32;49mpip install --upgrade pip\u001b[0m\n",
            "Note: you may need to restart the kernel to use updated packages.\n"
          ]
        }
      ],
      "source": [
        "%pip list | grep milvus\n",
        "%pip install llama-index"
      ]
    },
    {
      "cell_type": "markdown",
      "id": "eab0d1a3",
      "metadata": {
        "id": "eab0d1a3"
      },
      "source": [
        "This notebook will use [Milvus Lite](https://milvus.io/docs/milvus_lite.md) requiring a higher version of pymilvus:"
      ]
    },
    {
      "cell_type": "code",
      "execution_count": 3,
      "id": "7661b098",
      "metadata": {
        "id": "7661b098"
      },
      "outputs": [
        {
          "name": "stdout",
          "output_type": "stream",
          "text": [
            "\n",
            "\u001b[1m[\u001b[0m\u001b[34;49mnotice\u001b[0m\u001b[1;39;49m]\u001b[0m\u001b[39;49m A new release of pip is available: \u001b[0m\u001b[31;49m24.0\u001b[0m\u001b[39;49m -> \u001b[0m\u001b[32;49m24.2\u001b[0m\n",
            "\u001b[1m[\u001b[0m\u001b[34;49mnotice\u001b[0m\u001b[1;39;49m]\u001b[0m\u001b[39;49m To update, run: \u001b[0m\u001b[32;49mpip install --upgrade pip\u001b[0m\n",
            "Note: you may need to restart the kernel to use updated packages.\n"
          ]
        }
      ],
      "source": [
        "%pip install pymilvus>=2.4.2"
      ]
    },
    {
      "cell_type": "markdown",
      "id": "70cc8c56",
      "metadata": {
        "id": "70cc8c56"
      },
      "source": [
        "> If you are using Google Colab, to enable dependencies just installed, you may need to **restart the runtime** (click on the \"Runtime\" menu at the top of the screen, and select \"Restart session\" from the dropdown menu)."
      ]
    },
    {
      "cell_type": "markdown",
      "id": "f9b97a89",
      "metadata": {
        "id": "f9b97a89"
      },
      "source": [
        "### Setup OpenAI\n",
        "\n",
        "Lets first begin by adding the openai api key. This will allow us to access chatgpt."
      ]
    },
    {
      "cell_type": "code",
      "execution_count": null,
      "id": "0c9f4d21-145a-401e-95ff-ccb259e8ef84",
      "metadata": {
        "id": "0c9f4d21-145a-401e-95ff-ccb259e8ef84"
      },
      "outputs": [],
      "source": [
        "import openai\n",
        "\n",
        "openai.api_key = \"sk-***********\""
      ]
    },
    {
      "cell_type": "markdown",
      "id": "a3d4e638",
      "metadata": {
        "id": "a3d4e638"
      },
      "source": [
        "### Prepare data\n",
        "\n",
        "You can download sample data with the following commands:"
      ]
    },
    {
      "cell_type": "code",
      "execution_count": 4,
      "id": "2a2e24d1",
      "metadata": {
        "id": "2a2e24d1"
      },
      "outputs": [
        {
          "name": "stdout",
          "output_type": "stream",
          "text": [
            "--2024-09-26 13:23:44--  https://raw.githubusercontent.com/run-llama/llama_index/main/docs/docs/examples/data/paul_graham/paul_graham_essay.txt\n",
            "Resolving raw.githubusercontent.com (raw.githubusercontent.com)... 2606:50c0:8001::154, 2606:50c0:8002::154, 2606:50c0:8003::154, ...\n",
            "Connecting to raw.githubusercontent.com (raw.githubusercontent.com)|2606:50c0:8001::154|:443... connected.\n",
            "HTTP request sent, awaiting response... 200 OK\n",
            "Length: 75042 (73K) [text/plain]\n",
            "Saving to: ‘data/paul_graham_essay.txt’\n",
            "\n",
            "data/paul_graham_es 100%[===================>]  73,28K  --.-KB/s    in 0,002s  \n",
            "\n",
            "2024-09-26 13:23:45 (42,0 MB/s) - ‘data/paul_graham_essay.txt’ saved [75042/75042]\n",
            "\n",
            "--2024-09-26 13:23:45--  https://raw.githubusercontent.com/run-llama/llama_index/main/docs/docs/examples/data/10k/uber_2021.pdf\n",
            "Resolving raw.githubusercontent.com (raw.githubusercontent.com)... 2606:50c0:8001::154, 2606:50c0:8002::154, 2606:50c0:8003::154, ...\n",
            "Connecting to raw.githubusercontent.com (raw.githubusercontent.com)|2606:50c0:8001::154|:443... connected.\n",
            "HTTP request sent, awaiting response... 200 OK\n",
            "Length: 1880483 (1,8M) [application/octet-stream]\n",
            "Saving to: ‘data/uber_2021.pdf’\n",
            "\n",
            "data/uber_2021.pdf  100%[===================>]   1,79M  --.-KB/s    in 0,02s   \n",
            "\n",
            "2024-09-26 13:23:45 (91,1 MB/s) - ‘data/uber_2021.pdf’ saved [1880483/1880483]\n",
            "\n"
          ]
        }
      ],
      "source": [
        "! mkdir -p 'data/'\n",
        "! wget 'https://raw.githubusercontent.com/run-llama/llama_index/main/docs/docs/examples/data/paul_graham/paul_graham_essay.txt' -O 'data/paul_graham_essay.txt'\n",
        "! wget 'https://raw.githubusercontent.com/run-llama/llama_index/main/docs/docs/examples/data/10k/uber_2021.pdf' -O 'data/uber_2021.pdf'"
      ]
    },
    {
      "cell_type": "markdown",
      "id": "59ff935d",
      "metadata": {
        "id": "59ff935d"
      },
      "source": [
        "## Getting Started\n",
        "\n",
        "### Generate our data\n",
        "As a first example, lets generate a document from the file `paul_graham_essay.txt`. It is a single essay from Paul Graham titled `What I Worked On`. To generate the documents we will use the SimpleDirectoryReader."
      ]
    },
    {
      "cell_type": "code",
      "execution_count": 5,
      "id": "68cbd239-880e-41a3-98d8-dbb3fab55431",
      "metadata": {
        "id": "68cbd239-880e-41a3-98d8-dbb3fab55431",
        "outputId": "bd66ee11-1bbf-4504-b745-f9c434526b20"
      },
      "outputs": [
        {
          "name": "stdout",
          "output_type": "stream",
          "text": [
            "Document ID: 81b6b54e-adec-4d83-b090-bbbc06983500\n"
          ]
        }
      ],
      "source": [
        "from llama_index.core import SimpleDirectoryReader\n",
        "\n",
        "# load documents\n",
        "documents = SimpleDirectoryReader(\n",
        "    input_files=[\"./data/paul_graham_essay.txt\"]\n",
        ").load_data()\n",
        "\n",
        "print(\"Document ID:\", documents[0].doc_id)"
      ]
    },
    {
      "cell_type": "markdown",
      "id": "dd270925",
      "metadata": {
        "id": "dd270925"
      },
      "source": [
        "### Create an index across the data\n",
        "\n",
        "Now that we have a document, we can can create an index and insert the document.\n",
        "\n",
        "> Please note that **Milvus Lite** requires `pymilvus>=2.4.2`."
      ]
    },
    {
      "cell_type": "code",
      "execution_count": 6,
      "id": "ba1558b3",
      "metadata": {
        "id": "ba1558b3"
      },
      "outputs": [],
      "source": [
        "# Create an index over the documents\n",
        "from llama_index.core import VectorStoreIndex, StorageContext\n",
        "from llama_index.vector_stores.milvus import MilvusVectorStore\n",
        "\n",
        "\n",
        "vector_store = MilvusVectorStore(\n",
        "    uri=\"./milvus_demo.db\", \n",
        "    dim=1536,\n",
        "    similarity_metric=\"cosine\",\n",
        "    index_config={\n",
        "        \"index_type\": \"FLAT\",\n",
        "        \"params\": {\n",
        "            \"metric_type\" : \"COSINE\"\n",
        "        } \n",
        "    },   \n",
        "    overwrite=True\n",
        ")\n",
        "# storage_context = StorageContext.from_defaults(vector_store=vector_store)\n",
        "# index = VectorStoreIndex.from_documents(\n",
        "#     documents, storage_context=storage_context\n",
        "# )"
      ]
    },
    {
      "cell_type": "code",
      "execution_count": 7,
      "id": "e1cd7ace",
      "metadata": {},
      "outputs": [],
      "source": [
        "conn = vector_store.client"
      ]
    },
    {
      "cell_type": "code",
      "execution_count": 8,
      "id": "2bee98e5",
      "metadata": {},
      "outputs": [
        {
          "data": {
            "text/plain": [
              "{'index_type': 'FLAT',\n",
              " 'metric_type': 'COSINE',\n",
              " 'dim': '1536',\n",
              " 'field_name': 'embedding',\n",
              " 'index_name': 'embedding',\n",
              " 'total_rows': 0,\n",
              " 'indexed_rows': 0,\n",
              " 'pending_index_rows': 0,\n",
              " 'state': 'Finished'}"
            ]
          },
          "execution_count": 8,
          "metadata": {},
          "output_type": "execute_result"
        }
      ],
      "source": [
        "collections = conn.list_collections()\n",
        "collection_name = collections[0]\n",
        "indexes = conn.list_indexes(collection_name=collection_name)\n",
        "index_name = indexes[0]\n",
        "index_desc = conn.describe_index(collection_name=collection_name,index_name=index_name)\n",
        "\n",
        "index_desc\n"
      ]
    },
    {
      "cell_type": "markdown",
      "id": "a75a5773",
      "metadata": {
        "id": "a75a5773"
      },
      "source": [
        "> For the parameters of `MilvusVectorStore`:\n",
        "> - Setting the `uri` as a local file, e.g.`./milvus.db`, is the most convenient method, as it automatically utilizes [Milvus Lite](https://milvus.io/docs/milvus_lite.md) to store all data in this file.\n",
        "> - If you have large scale of data, you can set up a more performant Milvus server on [docker or kubernetes](https://milvus.io/docs/quickstart.md). In this setup, please use the server uri, e.g.`http://localhost:19530`, as your `uri`.\n",
        "> - If you want to use [Zilliz Cloud](https://zilliz.com/cloud), the fully managed cloud service for Milvus, adjust the `uri` and `token`, which correspond to the [Public Endpoint and Api key](https://docs.zilliz.com/docs/on-zilliz-cloud-console#free-cluster-details) in Zilliz Cloud."
      ]
    },
    {
      "cell_type": "markdown",
      "id": "04304299-fc3e-40a0-8600-f50c3292767e",
      "metadata": {
        "id": "04304299-fc3e-40a0-8600-f50c3292767e"
      },
      "source": [
        "### Query the data\n",
        "Now that we have our document stored in the index, we can ask questions against the index. The index will use the data stored in itself as the knowledge base for chatgpt."
      ]
    },
    {
      "cell_type": "code",
      "execution_count": null,
      "id": "35369eda",
      "metadata": {
        "id": "35369eda",
        "outputId": "d30f5fac-1e43-49b6-c6ac-2c082b26a366"
      },
      "outputs": [],
      "source": [
        "query_engine = index.as_query_engine()\n",
        "res = query_engine.query(\"What did the author learn?\")\n",
        "print(res)"
      ]
    },
    {
      "cell_type": "code",
      "execution_count": null,
      "id": "99212d33",
      "metadata": {
        "id": "99212d33",
        "outputId": "f279c2ca-bb8c-4d24-cfb0-b58fdc9bba35"
      },
      "outputs": [],
      "source": [
        "res = query_engine.query(\n",
        "    \"What challenges did the disease pose for the author?\"\n",
        ")\n",
        "print(res)"
      ]
    },
    {
      "cell_type": "markdown",
      "id": "64cc925b",
      "metadata": {
        "id": "64cc925b"
      },
      "source": [
        "This next test shows that overwriting removes the previous data."
      ]
    },
    {
      "cell_type": "code",
      "execution_count": null,
      "id": "8d641e24",
      "metadata": {
        "id": "8d641e24",
        "outputId": "c4b5eee5-8dd4-4f18-98bf-1383dc3bbb02"
      },
      "outputs": [],
      "source": [
        "from llama_index.core import Document\n",
        "\n",
        "\n",
        "vector_store = MilvusVectorStore(\n",
        "    uri=\"./milvus_demo.db\", dim=1536, overwrite=True\n",
        ")\n",
        "storage_context = StorageContext.from_defaults(vector_store=vector_store)\n",
        "index = VectorStoreIndex.from_documents(\n",
        "    [Document(text=\"The number that is being searched for is ten.\")],\n",
        "    storage_context,\n",
        ")\n",
        "query_engine = index.as_query_engine()\n",
        "res = query_engine.query(\"Who is the author?\")\n",
        "print(res)"
      ]
    },
    {
      "cell_type": "markdown",
      "id": "d8123529",
      "metadata": {
        "id": "d8123529"
      },
      "source": [
        "The next test shows adding additional data to an already existing  index."
      ]
    },
    {
      "cell_type": "code",
      "execution_count": null,
      "id": "a5c429a4",
      "metadata": {
        "id": "a5c429a4",
        "outputId": "f34d92cb-eebd-46e9-b702-24617f2bb917"
      },
      "outputs": [],
      "source": [
        "del index, vector_store, storage_context, query_engine\n",
        "\n",
        "vector_store = MilvusVectorStore(uri=\"./milvus_demo.db\", overwrite=False)\n",
        "storage_context = StorageContext.from_defaults(vector_store=vector_store)\n",
        "index = VectorStoreIndex.from_documents(\n",
        "    documents, storage_context=storage_context\n",
        ")\n",
        "query_engine = index.as_query_engine()\n",
        "res = query_engine.query(\"What is the number?\")\n",
        "print(res)"
      ]
    },
    {
      "cell_type": "code",
      "execution_count": null,
      "id": "56ac3375-371b-4e5f-bac9-8124b6871429",
      "metadata": {
        "id": "56ac3375-371b-4e5f-bac9-8124b6871429",
        "outputId": "9181372d-a04f-48aa-ecd9-270cb58680c7"
      },
      "outputs": [],
      "source": [
        "res = query_engine.query(\"Who is the author?\")\n",
        "print(res)"
      ]
    },
    {
      "cell_type": "markdown",
      "id": "154ec1b3",
      "metadata": {
        "id": "154ec1b3"
      },
      "source": [
        "## Metadata filtering\n",
        "\n",
        "We can generate results by filtering specific sources. The following example illustrates loading all documents from the directory and subsequently filtering them based on metadata."
      ]
    },
    {
      "cell_type": "code",
      "execution_count": null,
      "id": "2a845c5d-f10b-4fba-9cd2-e62871f836f3",
      "metadata": {
        "id": "2a845c5d-f10b-4fba-9cd2-e62871f836f3"
      },
      "outputs": [],
      "source": [
        "from llama_index.core.vector_stores import ExactMatchFilter, MetadataFilters\n",
        "\n",
        "# Load all the two documents loaded before\n",
        "documents_all = SimpleDirectoryReader(\"./data/\").load_data()\n",
        "\n",
        "vector_store = MilvusVectorStore(\n",
        "    uri=\"./milvus_demo.db\", dim=1536, overwrite=True\n",
        ")\n",
        "storage_context = StorageContext.from_defaults(vector_store=vector_store)\n",
        "index = VectorStoreIndex.from_documents(documents_all, storage_context)"
      ]
    },
    {
      "cell_type": "markdown",
      "id": "8de85343",
      "metadata": {
        "id": "8de85343"
      },
      "source": [
        "We want to only retrieve documents from the file `uber_2021.pdf`."
      ]
    },
    {
      "cell_type": "code",
      "execution_count": null,
      "id": "d9f9bcb5-43de-4983-b754-a822ac7b5278",
      "metadata": {
        "id": "d9f9bcb5-43de-4983-b754-a822ac7b5278",
        "outputId": "22cb543c-6855-4095-fb1a-99258ec3e133"
      },
      "outputs": [],
      "source": [
        "filters = MetadataFilters(\n",
        "    filters=[ExactMatchFilter(key=\"file_name\", value=\"uber_2021.pdf\")]\n",
        ")\n",
        "query_engine = index.as_query_engine(filters=filters)\n",
        "res = query_engine.query(\n",
        "    \"What challenges did the disease pose for the author?\"\n",
        ")\n",
        "\n",
        "print(res)"
      ]
    },
    {
      "cell_type": "markdown",
      "id": "92e95db9",
      "metadata": {
        "id": "92e95db9"
      },
      "source": [
        "We get a different result this time when retrieve from the file `paul_graham_essay.txt`."
      ]
    },
    {
      "cell_type": "code",
      "execution_count": null,
      "id": "0f134a35-dbd3-49d8-b7d8-48bdd2349701",
      "metadata": {
        "id": "0f134a35-dbd3-49d8-b7d8-48bdd2349701",
        "outputId": "304491f7-7c38-47f8-cf14-777ed6d39475"
      },
      "outputs": [],
      "source": [
        "filters = MetadataFilters(\n",
        "    filters=[ExactMatchFilter(key=\"file_name\", value=\"paul_graham_essay.txt\")]\n",
        ")\n",
        "query_engine = index.as_query_engine(filters=filters)\n",
        "res = query_engine.query(\n",
        "    \"What challenges did the disease pose for the author?\"\n",
        ")\n",
        "\n",
        "print(res)"
      ]
    }
  ],
  "metadata": {
    "colab": {
      "provenance": []
    },
    "kernelspec": {
      "display_name": "Python 3 (ipykernel)",
      "language": "python",
      "name": "python3"
    },
    "language_info": {
      "codemirror_mode": {
        "name": "ipython",
        "version": 3
      },
      "file_extension": ".py",
      "mimetype": "text/x-python",
      "name": "python",
      "nbconvert_exporter": "python",
      "pygments_lexer": "ipython3",
      "version": "3.11.9"
    }
  },
  "nbformat": 4,
  "nbformat_minor": 5
}
